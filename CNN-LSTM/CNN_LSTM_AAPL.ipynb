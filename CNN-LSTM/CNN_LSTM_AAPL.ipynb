{
 "cells": [
  {
   "cell_type": "markdown",
   "id": "30d8616a",
   "metadata": {
    "id": "30d8616a"
   },
   "source": [
    "# CNN-LSTM"
   ]
  },
  {
   "cell_type": "code",
   "execution_count": 2,
   "id": "997f9784",
   "metadata": {
    "id": "997f9784"
   },
   "outputs": [
    {
     "ename": "ModuleNotFoundError",
     "evalue": "No module named 'pydot'",
     "output_type": "error",
     "traceback": [
      "\u001b[1;31m---------------------------------------------------------------------------\u001b[0m",
      "\u001b[1;31mModuleNotFoundError\u001b[0m                       Traceback (most recent call last)",
      "Input \u001b[1;32mIn [2]\u001b[0m, in \u001b[0;36m<cell line: 8>\u001b[1;34m()\u001b[0m\n\u001b[0;32m      6\u001b[0m \u001b[38;5;28;01mimport\u001b[39;00m \u001b[38;5;21;01mseaborn\u001b[39;00m \u001b[38;5;28;01mas\u001b[39;00m \u001b[38;5;21;01msns\u001b[39;00m\n\u001b[0;32m      7\u001b[0m sns\u001b[38;5;241m.\u001b[39mset_style(\u001b[38;5;124m\"\u001b[39m\u001b[38;5;124mwhitegrid\u001b[39m\u001b[38;5;124m\"\u001b[39m)\n\u001b[1;32m----> 8\u001b[0m \u001b[38;5;28;01mimport\u001b[39;00m \u001b[38;5;21;01mpydot\u001b[39;00m\n\u001b[0;32m      9\u001b[0m \u001b[38;5;28;01mimport\u001b[39;00m \u001b[38;5;21;01mgraphviz\u001b[39;00m\n\u001b[0;32m     11\u001b[0m get_ipython()\u001b[38;5;241m.\u001b[39mrun_line_magic(\u001b[38;5;124m'\u001b[39m\u001b[38;5;124mmatplotlib\u001b[39m\u001b[38;5;124m'\u001b[39m, \u001b[38;5;124m'\u001b[39m\u001b[38;5;124minline\u001b[39m\u001b[38;5;124m'\u001b[39m)\n",
      "\u001b[1;31mModuleNotFoundError\u001b[0m: No module named 'pydot'"
     ]
    }
   ],
   "source": [
    "#importing libraries\n",
    "\n",
    "import numpy as np\n",
    "import pandas as pd\n",
    "import matplotlib.pyplot as plt\n",
    "import seaborn as sns\n",
    "sns.set_style(\"whitegrid\")\n",
    "import pydot\n",
    "import graphviz\n",
    "\n",
    "%matplotlib inline\n",
    "plt.style.use(\"ggplot\")"
   ]
  },
  {
   "cell_type": "code",
   "execution_count": null,
   "id": "019c71f3",
   "metadata": {
    "colab": {
     "base_uri": "https://localhost:8080/",
     "height": 424
    },
    "id": "019c71f3",
    "outputId": "d3ad091f-f497-4d19-ca6d-81522f3ec61d"
   },
   "outputs": [],
   "source": [
    "#loading dataset\n",
    "\n",
    "dataset = pd.read_csv('/content/AAPL.csv')\n",
    "dataset"
   ]
  },
  {
   "cell_type": "code",
   "execution_count": null,
   "id": "3b2ca887",
   "metadata": {
    "colab": {
     "base_uri": "https://localhost:8080/"
    },
    "id": "3b2ca887",
    "outputId": "8278784e-8e13-48e5-adcc-cd69b28b2dbb"
   },
   "outputs": [],
   "source": [
    "dataset.info()"
   ]
  },
  {
   "cell_type": "code",
   "execution_count": null,
   "id": "dfce6ad2",
   "metadata": {
    "colab": {
     "base_uri": "https://localhost:8080/",
     "height": 300
    },
    "id": "dfce6ad2",
    "outputId": "4afed5f6-1581-4574-c45f-01147201f451"
   },
   "outputs": [],
   "source": [
    "dataset.describe()"
   ]
  },
  {
   "cell_type": "code",
   "execution_count": null,
   "id": "b51e5e8e",
   "metadata": {
    "colab": {
     "base_uri": "https://localhost:8080/"
    },
    "id": "b51e5e8e",
    "outputId": "324790a3-63e4-46e7-b4cf-b9cfd44c922a"
   },
   "outputs": [],
   "source": [
    "dataset.isnull().sum()"
   ]
  },
  {
   "cell_type": "code",
   "execution_count": null,
   "id": "d326e865",
   "metadata": {
    "colab": {
     "base_uri": "https://localhost:8080/",
     "height": 261
    },
    "id": "d326e865",
    "outputId": "c8650b9b-b064-48a8-c39f-09b2b8dc7059"
   },
   "outputs": [],
   "source": [
    "dataset.reset_index(drop=True, inplace=True)\n",
    "dataset.fillna(dataset.mean(), inplace=True)\n",
    "dataset.head()"
   ]
  },
  {
   "cell_type": "code",
   "execution_count": null,
   "id": "b977af28",
   "metadata": {
    "colab": {
     "base_uri": "https://localhost:8080/",
     "height": 644
    },
    "id": "b977af28",
    "outputId": "09c4a13d-c8a8-4e09-d865-2095e1100500",
    "scrolled": true
   },
   "outputs": [],
   "source": [
    "#plotting dataset\n",
    "\n",
    "dataset.plot(legend=True,subplots=True, figsize = (20, 15))\n",
    "plt.show()"
   ]
  },
  {
   "cell_type": "code",
   "execution_count": null,
   "id": "889693da",
   "metadata": {
    "colab": {
     "base_uri": "https://localhost:8080/",
     "height": 638
    },
    "id": "889693da",
    "outputId": "05d15f0e-0c65-4d03-83ce-9cfdeebe6267"
   },
   "outputs": [],
   "source": [
    "#Adding moving averages to the dataset\n",
    "\n",
    "m_avg_day = [10, 50 ,100]\n",
    "for i in m_avg_day:\n",
    "    column_name = 'M_avg for %s days' %(str(i))\n",
    "    dataset[column_name] = pd.DataFrame.rolling(dataset['Close'],i).mean()\n",
    "\n",
    "dataset['Daily Return'] = dataset['Close'].pct_change()\n",
    "\n",
    "# plotting Daily Return\n",
    "\n",
    "dataset['Daily Return'].plot(figsize=(20,15),legend=True,linestyle=':',marker='o')\n",
    "plt.show()"
   ]
  },
  {
   "cell_type": "code",
   "execution_count": null,
   "id": "b481470b",
   "metadata": {
    "colab": {
     "base_uri": "https://localhost:8080/",
     "height": 369
    },
    "id": "b481470b",
    "outputId": "f5975e3b-f281-4eac-9536-d181e8c3a372",
    "scrolled": true
   },
   "outputs": [],
   "source": [
    "sns.displot(dataset['Daily Return'].dropna(),bins=100,color='green')\n",
    "plt.show()"
   ]
  },
  {
   "cell_type": "code",
   "execution_count": null,
   "id": "4a9d92c6",
   "metadata": {
    "colab": {
     "base_uri": "https://localhost:8080/",
     "height": 426
    },
    "id": "4a9d92c6",
    "outputId": "dae32db8-5dfc-47e0-a72c-f9d5d6a4d4fb"
   },
   "outputs": [],
   "source": [
    "dataset.reset_index(drop=True, inplace=True)\n",
    "dataset.fillna(dataset.mean(), inplace=True)\n",
    "dataset.head()"
   ]
  },
  {
   "cell_type": "code",
   "execution_count": null,
   "id": "187990f6",
   "metadata": {
    "colab": {
     "base_uri": "https://localhost:8080/"
    },
    "id": "187990f6",
    "outputId": "1368b4e7-802d-4f71-9ad9-d45f90b2578d"
   },
   "outputs": [],
   "source": [
    "dataset.nunique()"
   ]
  },
  {
   "cell_type": "code",
   "execution_count": null,
   "id": "cafbf20f",
   "metadata": {
    "colab": {
     "base_uri": "https://localhost:8080/",
     "height": 679
    },
    "id": "cafbf20f",
    "outputId": "ec405ec4-ab0b-4328-dc98-0a82b43d663d"
   },
   "outputs": [],
   "source": [
    "dataset.sort_index(axis=1,ascending=True)"
   ]
  },
  {
   "cell_type": "code",
   "execution_count": null,
   "id": "70cf6234",
   "metadata": {
    "colab": {
     "base_uri": "https://localhost:8080/",
     "height": 632
    },
    "id": "70cf6234",
    "outputId": "c070c6a5-4b5d-4a95-c6e1-20e389518beb"
   },
   "outputs": [],
   "source": [
    "# plotting every column of the dataset\n",
    "\n",
    "cols_plot = ['Open', 'High', 'Low','Close','Volume','M_avg for 10 days','M_avg for 50 days','M_avg for 100 days','Daily Return']\n",
    "axes = dataset[cols_plot].plot(marker='.', alpha=0.7, linestyle='None', figsize=(20, 15), subplots=True)\n",
    "for ax in axes:\n",
    "    ax.set_ylabel('Daily trade')"
   ]
  },
  {
   "cell_type": "code",
   "execution_count": null,
   "id": "9aba9df5",
   "metadata": {
    "colab": {
     "base_uri": "https://localhost:8080/",
     "height": 299
    },
    "id": "9aba9df5",
    "outputId": "73ed9e1c-59d1-4f01-b39c-6794f08e74f5"
   },
   "outputs": [],
   "source": [
    "# plotting Close price of the dataset\n",
    "\n",
    "plt.plot(dataset['Close'], label=\"Close price\")\n",
    "plt.xlabel(\"Timestamp\")\n",
    "plt.ylabel(\"Closing price\")"
   ]
  },
  {
   "cell_type": "code",
   "execution_count": null,
   "id": "00e7ff9f",
   "metadata": {
    "colab": {
     "base_uri": "https://localhost:8080/"
    },
    "id": "00e7ff9f",
    "outputId": "1c38a566-a9e6-4e87-c302-bfe8971fcda8",
    "scrolled": true
   },
   "outputs": [],
   "source": [
    "df = dataset\n",
    "print(df)"
   ]
  },
  {
   "cell_type": "code",
   "execution_count": null,
   "id": "1bea4d08",
   "metadata": {
    "colab": {
     "base_uri": "https://localhost:8080/"
    },
    "id": "1bea4d08",
    "outputId": "2142e1e3-dbfb-4559-c898-e5edf6b6d55b"
   },
   "outputs": [],
   "source": [
    "dataset.isnull().sum()"
   ]
  },
  {
   "cell_type": "code",
   "execution_count": null,
   "id": "a9622611",
   "metadata": {
    "colab": {
     "base_uri": "https://localhost:8080/",
     "height": 566
    },
    "id": "a9622611",
    "outputId": "c7efdbef-e199-45f8-bb8a-e34a47489a0b",
    "scrolled": false
   },
   "outputs": [],
   "source": [
    "df.describe().transpose()"
   ]
  },
  {
   "cell_type": "code",
   "execution_count": null,
   "id": "40bee2d3",
   "metadata": {
    "id": "40bee2d3"
   },
   "outputs": [],
   "source": [
    "df_close = df.reset_index()['Close']"
   ]
  },
  {
   "cell_type": "code",
   "execution_count": null,
   "id": "6eb7360e",
   "metadata": {
    "colab": {
     "base_uri": "https://localhost:8080/"
    },
    "id": "6eb7360e",
    "outputId": "26737742-0860-4f13-f269-a019dc782312"
   },
   "outputs": [],
   "source": [
    "df_close"
   ]
  },
  {
   "cell_type": "code",
   "execution_count": null,
   "id": "e0f8ff09",
   "metadata": {
    "id": "e0f8ff09"
   },
   "outputs": [],
   "source": [
    "# scaling close price of the data using MinMaxScaler\n",
    "\n",
    "from sklearn.preprocessing import MinMaxScaler\n",
    "scaler=MinMaxScaler(feature_range=(0,1))\n",
    "df_close=scaler.fit_transform(np.array(df_close).reshape(-1,1))"
   ]
  },
  {
   "cell_type": "code",
   "execution_count": null,
   "id": "ee6cc3bb",
   "metadata": {
    "id": "ee6cc3bb"
   },
   "outputs": [],
   "source": [
    "df_close = pd.DataFrame(df_close)"
   ]
  },
  {
   "cell_type": "code",
   "execution_count": null,
   "id": "a99088f1",
   "metadata": {
    "id": "a99088f1"
   },
   "outputs": [],
   "source": [
    "# Dividing training and test data for plotting\n",
    "\n",
    "training_size = int(len(df_close)*0.75)\n",
    "test_size = len(df_close)-training_size\n",
    "train_data,test_data=df_close.iloc[0:training_size,0],df_close.iloc[training_size:,0]"
   ]
  },
  {
   "cell_type": "code",
   "execution_count": null,
   "id": "58996120",
   "metadata": {
    "colab": {
     "base_uri": "https://localhost:8080/"
    },
    "id": "58996120",
    "outputId": "6fb3c297-6a9c-402e-e6ed-79b17fa19224"
   },
   "outputs": [],
   "source": [
    "train_data"
   ]
  },
  {
   "cell_type": "code",
   "execution_count": null,
   "id": "ad9fd611",
   "metadata": {
    "colab": {
     "base_uri": "https://localhost:8080/"
    },
    "id": "ad9fd611",
    "outputId": "22264067-ba6b-403a-ea3d-21a52d43ab07"
   },
   "outputs": [],
   "source": [
    "test_data"
   ]
  },
  {
   "cell_type": "code",
   "execution_count": null,
   "id": "a32bd89f",
   "metadata": {
    "colab": {
     "base_uri": "https://localhost:8080/",
     "height": 146
    },
    "id": "a32bd89f",
    "outputId": "2e73de1c-0ae9-4c85-ba1c-95ccd91b7e86"
   },
   "outputs": [],
   "source": [
    "# Plotting training data,test data, and close price of the dataset \n",
    "train_dataPlot = np.empty_like(df_close)\n",
    "train_dataPlot[:, :] = np.nan\n",
    "train_dataPlot[0:len(train_data),0] = train_data\n",
    "\n",
    "test_dataPlot = np.empty_like(df_close)\n",
    "test_dataPlot[:, :] = np.nan\n",
    "test_dataPlot[len(train_data):len(df_close),0] = test_data\n",
    "\n",
    "plt.figure(figsize=(100,15))\n",
    "plt.plot(scaler.inverse_transform(df_close),label='Close price')\n",
    "plt.plot(scaler.inverse_transform(train_dataPlot))\n",
    "plt.plot(scaler.inverse_transform(test_dataPlot))\n",
    "\n",
    "plt.show()"
   ]
  },
  {
   "cell_type": "code",
   "execution_count": null,
   "id": "37fd6e79",
   "metadata": {
    "id": "37fd6e79"
   },
   "outputs": [],
   "source": [
    "#preparing data in time series format with the help of time step\n",
    "\n",
    "X = []\n",
    "Y = []\n",
    "time_step=100\n",
    "for i in range(1 , len(df_close) - time_step -1 , 1):\n",
    "    temp = []\n",
    "    temp2 = []\n",
    "    for j in range(time_step):\n",
    "        temp.append(df_close.iloc[i + j, 0])\n",
    "    temp2.append(df_close.iloc[i + time_step, 0])\n",
    "    X.append(np.array(temp).reshape(100, 1))\n",
    "    Y.append(np.array(temp2).reshape(1, 1))"
   ]
  },
  {
   "cell_type": "code",
   "execution_count": null,
   "id": "9522d36f",
   "metadata": {
    "id": "9522d36f"
   },
   "outputs": [],
   "source": [
    "#splitting data into train and test for prediction\n",
    "\n",
    "from sklearn.model_selection import train_test_split\n",
    "x_train, x_test, y_train, y_test = train_test_split(X, Y, test_size=0.2, shuffle=True)\n",
    "\n",
    "train_X = np.array(x_train)\n",
    "test_X = np.array(x_test)\n",
    "train_Y = np.array(y_train)\n",
    "test_Y = np.array(y_test)"
   ]
  },
  {
   "cell_type": "code",
   "execution_count": null,
   "id": "368a09f8",
   "metadata": {
    "id": "368a09f8"
   },
   "outputs": [],
   "source": [
    "#reshaping data\n",
    "\n",
    "train_X = train_X.reshape(train_X.shape[0],1,100,1)\n",
    "test_X = test_X.reshape(test_X.shape[0],1,100,1)"
   ]
  },
  {
   "cell_type": "code",
   "execution_count": null,
   "id": "3034b8ca",
   "metadata": {
    "id": "3034b8ca"
   },
   "outputs": [],
   "source": [
    "import tensorflow as tf\n",
    "from tensorflow.keras.layers import Conv1D, LSTM, Dense, Dropout, Bidirectional, TimeDistributed\n",
    "from tensorflow.keras.layers import MaxPooling1D, Flatten\n",
    "from tensorflow.keras.regularizers import L1, L2\n",
    "from tensorflow.keras.metrics import Accuracy\n",
    "from tensorflow.keras.metrics import RootMeanSquaredError"
   ]
  },
  {
   "cell_type": "code",
   "execution_count": null,
   "id": "47ca9c95",
   "metadata": {
    "id": "47ca9c95"
   },
   "outputs": [],
   "source": [
    "# model layers including CNN and LSTM\n",
    "\n",
    "cnn_lstm_model = tf.keras.models.Sequential([\n",
    "    \n",
    "    tf.keras.layers.TimeDistributed(Conv1D(64, kernel_size=3, activation='relu', input_shape=(None, 100, 1))),\n",
    "    tf.keras.layers.TimeDistributed(MaxPooling1D(2)),\n",
    "    tf.keras.layers.TimeDistributed(Conv1D(128, kernel_size=3, activation='relu')),\n",
    "    tf.keras.layers.TimeDistributed(MaxPooling1D(2)),\n",
    "    tf.keras.layers.TimeDistributed(Conv1D(128, kernel_size=3, activation='relu')),\n",
    "    tf.keras.layers.TimeDistributed(MaxPooling1D(2)),\n",
    "    tf.keras.layers.TimeDistributed(Flatten()),\n",
    "    \n",
    "    tf.keras.layers.Bidirectional(LSTM(100, return_sequences=True)),\n",
    "    tf.keras.layers.Dropout(0.5),\n",
    "    tf.keras.layers.Bidirectional(LSTM(100, return_sequences=False)),\n",
    "    tf.keras.layers.Dropout(0.5),\n",
    "    \n",
    "    tf.keras.layers.Dense(1, activation='linear')\n",
    "\n",
    "])"
   ]
  },
  {
   "cell_type": "code",
   "execution_count": null,
   "id": "07151881",
   "metadata": {
    "colab": {
     "base_uri": "https://localhost:8080/"
    },
    "id": "07151881",
    "outputId": "2225430e-d88a-46b6-e67c-115f674848c2"
   },
   "outputs": [],
   "source": [
    "#compiling and training the model\n",
    "\n",
    "cnn_lstm_model.compile(optimizer='adam', loss='mse', metrics=['mse', 'mae'])\n",
    "history = cnn_lstm_model.fit(train_X, train_Y, validation_data=(test_X,test_Y), epochs=40,batch_size=40, verbose=1, shuffle =True)"
   ]
  },
  {
   "cell_type": "code",
   "execution_count": null,
   "id": "da35c3b1",
   "metadata": {
    "colab": {
     "base_uri": "https://localhost:8080/",
     "height": 299
    },
    "id": "da35c3b1",
    "outputId": "bad374df-535a-469f-ea29-8d3078d6846c",
    "scrolled": false
   },
   "outputs": [],
   "source": [
    "#plotting training and validation loss\n",
    "\n",
    "plt.plot(history.history['loss'], label='train loss')\n",
    "plt.plot(history.history['val_loss'], label='val loss')\n",
    "plt.xlabel(\"epoch\")\n",
    "plt.ylabel(\"Loss\")\n",
    "plt.legend()"
   ]
  },
  {
   "cell_type": "code",
   "execution_count": null,
   "id": "b5aabdb0",
   "metadata": {
    "colab": {
     "base_uri": "https://localhost:8080/",
     "height": 299
    },
    "id": "b5aabdb0",
    "outputId": "db25a280-57c7-46e2-ceaf-7c8e0aa06e74"
   },
   "outputs": [],
   "source": [
    "#plotting training and validation MSE\n",
    "\n",
    "plt.plot(history.history['mse'], label='train mse')\n",
    "plt.plot(history.history['val_mse'], label='val mse')\n",
    "plt.xlabel(\"epoch\")\n",
    "plt.ylabel(\"Loss\")\n",
    "plt.legend()\n"
   ]
  },
  {
   "cell_type": "code",
   "execution_count": null,
   "id": "636af7f9",
   "metadata": {
    "colab": {
     "base_uri": "https://localhost:8080/",
     "height": 301
    },
    "id": "636af7f9",
    "outputId": "5909831c-5a89-4df4-aa36-dcf342111fe9"
   },
   "outputs": [],
   "source": [
    "#plotting training and validation MAE\n",
    "\n",
    "plt.plot(history.history['mae'], label='train mae')\n",
    "plt.plot(history.history['val_mae'], label='val mae')\n",
    "plt.xlabel(\"epoch\")\n",
    "plt.ylabel(\"Loss\")\n",
    "plt.legend()"
   ]
  },
  {
   "cell_type": "code",
   "execution_count": null,
   "id": "29c11e07",
   "metadata": {
    "colab": {
     "base_uri": "https://localhost:8080/"
    },
    "id": "29c11e07",
    "outputId": "6b567c14-ec3b-4034-8138-c76a0ee6ed09"
   },
   "outputs": [],
   "source": [
    "#summary of the CNN-LSTM model\n",
    "\n",
    "from tensorflow.keras.utils import plot_model\n",
    "print(cnn_lstm_model.summary())\n",
    "# plot_model(cnn_lstm_model, to_file='CNN_LSTM_Model.png', show_shapes=True, show_layer_names=True)"
   ]
  },
  {
   "cell_type": "code",
   "execution_count": null,
   "id": "342c7bbc",
   "metadata": {
    "colab": {
     "base_uri": "https://localhost:8080/"
    },
    "id": "342c7bbc",
    "outputId": "897b6908-71a4-41c6-c04c-5efeba175c83"
   },
   "outputs": [],
   "source": [
    "# evaluating the model\n",
    "\n",
    "cnn_lstm_model.evaluate(test_X, test_Y)"
   ]
  },
  {
   "cell_type": "code",
   "execution_count": null,
   "id": "0d058ba3",
   "metadata": {
    "colab": {
     "base_uri": "https://localhost:8080/"
    },
    "id": "0d058ba3",
    "outputId": "6b4b2253-4859-448b-8bf0-0c65d816e48e"
   },
   "outputs": [],
   "source": [
    "# calculating variance, R2 score and Max error of the model\n",
    "\n",
    "from sklearn.metrics import explained_variance_score, mean_poisson_deviance, mean_gamma_deviance\n",
    "from sklearn.metrics import r2_score\n",
    "from sklearn.metrics import max_error\n",
    "\n",
    "y_pred_prob = cnn_lstm_model.predict(test_X, verbose=0)\n",
    "y_pred_prob = y_pred_prob[:, 0]\n",
    "\n",
    "var = explained_variance_score(test_Y.reshape(-1,1), y_pred_prob)\n",
    "print('Variance: %f' % var)\n",
    "\n",
    "r2 = r2_score(test_Y.reshape(-1,1), y_pred_prob)\n",
    "print('R2 Score: %f' % var)\n",
    "\n",
    "var2 = max_error(test_Y.reshape(-1,1), y_pred_prob)\n",
    "print('Max Error: %f' % var2)"
   ]
  },
  {
   "cell_type": "code",
   "execution_count": null,
   "id": "83acfa11",
   "metadata": {
    "colab": {
     "base_uri": "https://localhost:8080/",
     "height": 934
    },
    "id": "83acfa11",
    "outputId": "b0f5efb6-c3c1-4bf6-d61b-567322f7a1f9"
   },
   "outputs": [],
   "source": [
    "# plotting predicted value and test label\n",
    "\n",
    "from pylab import rcParams\n",
    "rcParams['figure.figsize'] = [100,15]\n",
    "\n",
    "predicted  = cnn_lstm_model.predict(test_X)\n",
    "test_label = test_Y.reshape(-1,1)\n",
    "predicted = np.array(predicted[:,0]).reshape(-1,1)\n",
    "len_train = len(train_X)\n",
    "plt.plot(scaler.inverse_transform(predicted), color = 'green', label = 'Predicted  Stock Price')\n",
    "plt.plot(scaler.inverse_transform(test_label), color = 'red', label = 'Real Stock Price')\n",
    "plt.title(' Stock Price Prediction')\n",
    "plt.xlabel('Time')\n",
    "plt.ylabel(' Stock Price')\n",
    "plt.legend()\n",
    "plt.show()"
   ]
  },
  {
   "cell_type": "code",
   "execution_count": null,
   "id": "8ecc9fd9",
   "metadata": {
    "colab": {
     "base_uri": "https://localhost:8080/"
    },
    "id": "8ecc9fd9",
    "outputId": "2cb94af7-b897-455b-b63d-14fb84f3087d"
   },
   "outputs": [],
   "source": [
    "scaler.inverse_transform(predicted)"
   ]
  },
  {
   "cell_type": "code",
   "execution_count": null,
   "id": "d49e2bae",
   "metadata": {
    "colab": {
     "base_uri": "https://localhost:8080/"
    },
    "id": "d49e2bae",
    "outputId": "24a13c41-0d28-46e9-8f8f-ae456733923d"
   },
   "outputs": [],
   "source": [
    "scaler.inverse_transform(test_label)"
   ]
  },
  {
   "cell_type": "code",
   "execution_count": null,
   "id": "bad8e3d1",
   "metadata": {
    "id": "bad8e3d1"
   },
   "outputs": [],
   "source": []
  }
 ],
 "metadata": {
  "colab": {
   "name": "CNN-LSTM_final_model.ipynb",
   "provenance": []
  },
  "kernelspec": {
   "display_name": "Python 3 (ipykernel)",
   "language": "python",
   "name": "python3"
  },
  "language_info": {
   "codemirror_mode": {
    "name": "ipython",
    "version": 3
   },
   "file_extension": ".py",
   "mimetype": "text/x-python",
   "name": "python",
   "nbconvert_exporter": "python",
   "pygments_lexer": "ipython3",
   "version": "3.9.12"
  }
 },
 "nbformat": 4,
 "nbformat_minor": 5
}
