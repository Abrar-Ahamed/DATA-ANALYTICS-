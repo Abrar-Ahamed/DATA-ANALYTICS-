{
 "cells": [
  {
   "cell_type": "code",
   "execution_count": 15,
   "id": "c9e2a666",
   "metadata": {},
   "outputs": [],
   "source": [
    "import numpy as np \n",
    "import pandas as pd \n",
    "import matplotlib.pyplot as plt\n",
    "from pandas.plotting import lag_plot\n",
    "import datetime\n",
    "#from statsmodels.tsa.arima.model import ARIMA\n",
    "import statsmodels.api as sm\n",
    "from sklearn import metrics"
   ]
  },
  {
   "cell_type": "code",
   "execution_count": 16,
   "id": "3477b441",
   "metadata": {},
   "outputs": [
    {
     "data": {
      "text/html": [
       "<div>\n",
       "<style scoped>\n",
       "    .dataframe tbody tr th:only-of-type {\n",
       "        vertical-align: middle;\n",
       "    }\n",
       "\n",
       "    .dataframe tbody tr th {\n",
       "        vertical-align: top;\n",
       "    }\n",
       "\n",
       "    .dataframe thead th {\n",
       "        text-align: right;\n",
       "    }\n",
       "</style>\n",
       "<table border=\"1\" class=\"dataframe\">\n",
       "  <thead>\n",
       "    <tr style=\"text-align: right;\">\n",
       "      <th></th>\n",
       "      <th>Date</th>\n",
       "      <th>Open</th>\n",
       "      <th>High</th>\n",
       "      <th>Low</th>\n",
       "      <th>Close</th>\n",
       "      <th>Adj Close</th>\n",
       "      <th>Volume</th>\n",
       "    </tr>\n",
       "  </thead>\n",
       "  <tbody>\n",
       "    <tr>\n",
       "      <th>0</th>\n",
       "      <td>2016-01-04</td>\n",
       "      <td>25.652500</td>\n",
       "      <td>26.342501</td>\n",
       "      <td>25.500000</td>\n",
       "      <td>26.337500</td>\n",
       "      <td>24.151497</td>\n",
       "      <td>270597600</td>\n",
       "    </tr>\n",
       "    <tr>\n",
       "      <th>1</th>\n",
       "      <td>2016-01-05</td>\n",
       "      <td>26.437500</td>\n",
       "      <td>26.462500</td>\n",
       "      <td>25.602501</td>\n",
       "      <td>25.677500</td>\n",
       "      <td>23.546280</td>\n",
       "      <td>223164000</td>\n",
       "    </tr>\n",
       "    <tr>\n",
       "      <th>2</th>\n",
       "      <td>2016-01-06</td>\n",
       "      <td>25.139999</td>\n",
       "      <td>25.592501</td>\n",
       "      <td>24.967501</td>\n",
       "      <td>25.174999</td>\n",
       "      <td>23.085480</td>\n",
       "      <td>273829600</td>\n",
       "    </tr>\n",
       "    <tr>\n",
       "      <th>3</th>\n",
       "      <td>2016-01-07</td>\n",
       "      <td>24.670000</td>\n",
       "      <td>25.032499</td>\n",
       "      <td>24.107500</td>\n",
       "      <td>24.112499</td>\n",
       "      <td>22.111170</td>\n",
       "      <td>324377600</td>\n",
       "    </tr>\n",
       "    <tr>\n",
       "      <th>4</th>\n",
       "      <td>2016-01-08</td>\n",
       "      <td>24.637501</td>\n",
       "      <td>24.777500</td>\n",
       "      <td>24.190001</td>\n",
       "      <td>24.240000</td>\n",
       "      <td>22.228085</td>\n",
       "      <td>283192000</td>\n",
       "    </tr>\n",
       "  </tbody>\n",
       "</table>\n",
       "</div>"
      ],
      "text/plain": [
       "         Date       Open       High        Low      Close  Adj Close  \\\n",
       "0  2016-01-04  25.652500  26.342501  25.500000  26.337500  24.151497   \n",
       "1  2016-01-05  26.437500  26.462500  25.602501  25.677500  23.546280   \n",
       "2  2016-01-06  25.139999  25.592501  24.967501  25.174999  23.085480   \n",
       "3  2016-01-07  24.670000  25.032499  24.107500  24.112499  22.111170   \n",
       "4  2016-01-08  24.637501  24.777500  24.190001  24.240000  22.228085   \n",
       "\n",
       "      Volume  \n",
       "0  270597600  \n",
       "1  223164000  \n",
       "2  273829600  \n",
       "3  324377600  \n",
       "4  283192000  "
      ]
     },
     "execution_count": 16,
     "metadata": {},
     "output_type": "execute_result"
    }
   ],
   "source": [
    "df = pd.read_csv(\"C:/Users/Lenovo/Documents/fda project/Customer-Segmentation-and-Stock-market-prediction-for-portfolio-generation--main/FinalModel/DATASET/AAPL.csv\")\n",
    "df.head(5)"
   ]
  },
  {
   "cell_type": "code",
   "execution_count": 17,
   "id": "9e1e9a32",
   "metadata": {},
   "outputs": [
    {
     "data": {
      "text/plain": [
       "Date         0\n",
       "Open         0\n",
       "High         0\n",
       "Low          0\n",
       "Close        0\n",
       "Adj Close    0\n",
       "Volume       0\n",
       "dtype: int64"
      ]
     },
     "execution_count": 17,
     "metadata": {},
     "output_type": "execute_result"
    }
   ],
   "source": [
    "df.isnull().sum()"
   ]
  },
  {
   "cell_type": "code",
   "execution_count": 18,
   "id": "91b1a8ac",
   "metadata": {},
   "outputs": [
    {
     "data": {
      "image/png": "[encoded data removed]",
      "text/plain": [
       "<Figure size 432x288 with 1 Axes>"
      ]
     },
     "metadata": {
      "needs_background": "light"
     },
     "output_type": "display_data"
    }
   ],
   "source": [
    "plt.figure()\n",
    "lag_plot(df['Close'], lag=3)\n",
    "plt.title('APPLE Stock - Autocorrelation plot with lag = 3')\n",
    "plt.show()"
   ]
  },
  {
   "cell_type": "code",
   "execution_count": 19,
   "id": "2d7616d7",
   "metadata": {},
   "outputs": [
    {
     "data": {
      "text/plain": [
       "1204"
      ]
     },
     "execution_count": 19,
     "metadata": {},
     "output_type": "execute_result"
    }
   ],
   "source": [
    "int(len(df)*0.7)"
   ]
  },
  {
   "cell_type": "code",
   "execution_count": 20,
   "id": "81cbedbd",
   "metadata": {},
   "outputs": [
    {
     "data": {
      "text/plain": [
       "(1721, 7)"
      ]
     },
     "execution_count": 20,
     "metadata": {},
     "output_type": "execute_result"
    }
   ],
   "source": [
    "df.shape"
   ]
  },
  {
   "cell_type": "code",
   "execution_count": 21,
   "id": "8e80f269",
   "metadata": {},
   "outputs": [
    {
     "data": {
      "image/png": "[encoded data removed]",
      "text/plain": [
       "<Figure size 432x288 with 1 Axes>"
      ]
     },
     "metadata": {
      "needs_background": "light"
     },
     "output_type": "display_data"
    }
   ],
   "source": [
    "plt.plot(df[\"Date\"], df[\"Close\"])\n",
    "plt.xticks(np.arange(0,1721, 300), df['Date'][0:1721:300])\n",
    "plt.title(\"APPLE stock price over time\")\n",
    "plt.xlabel(\"time\")\n",
    "plt.ylabel(\"price\")\n",
    "plt.show()"
   ]
  },
  {
   "cell_type": "code",
   "execution_count": 22,
   "id": "f865e64a",
   "metadata": {},
   "outputs": [],
   "source": [
    "# divide the data into a training (70 % ) and test (30%) set.\n",
    "#p=4, d=1, q=0\n",
    "train_data, test_data = df[0:int(len(df)*0.7)], df[int(len(df)*0.7):]\n",
    "training_data = train_data['Close'].values\n",
    "test_data = test_data['Close'].values\n",
    "history = [x for x in training_data]\n",
    "model_predictions = []\n",
    "N_test_observations = len(test_data)\n",
    "for time_point in range(N_test_observations):\n",
    "    model = sm.tsa.arima.ARIMA(history, order=(4,1,0))\n",
    "    model_fit = model.fit()\n",
    "    output = model_fit.forecast()\n",
    "    yhat = output[0]\n",
    "    model_predictions.append(yhat)\n",
    "    true_test_value = test_data[time_point]\n",
    "    history.append(true_test_value)\n"
   ]
  },
  {
   "cell_type": "code",
   "execution_count": 23,
   "id": "dc289692",
   "metadata": {},
   "outputs": [
    {
     "name": "stdout",
     "output_type": "stream",
     "text": [
      "Testing Mean Squared Error is 7.79285972549541\n",
      "Testing Mean Absolute Error is 2.1143265472610797\n",
      "Testing Root Mean Squared Error is 2.7915694018769104\n"
     ]
    }
   ],
   "source": [
    "MAE_error = metrics.mean_absolute_error(test_data, model_predictions)\n",
    "RMSE_error = np.sqrt(metrics.mean_squared_error(test_data, model_predictions))\n",
    "MSE_error = metrics.mean_squared_error(test_data, model_predictions)\n",
    "print('Testing Mean Squared Error is {}'.format(MSE_error))\n",
    "print('Testing Mean Absolute Error is {}'.format(MAE_error))\n",
    "print('Testing Root Mean Squared Error is {}'.format(RMSE_error))"
   ]
  },
  {
   "cell_type": "code",
   "execution_count": 24,
   "id": "68bbda20",
   "metadata": {},
   "outputs": [
    {
     "data": {
      "image/png": "[encoded data removed]",
      "text/plain": [
       "<Figure size 432x288 with 1 Axes>"
      ]
     },
     "metadata": {
      "needs_background": "light"
     },
     "output_type": "display_data"
    }
   ],
   "source": [
    "test_set_range = df[int(len(df)*0.7):].index\n",
    "plt.plot(test_set_range, model_predictions, color='green', marker='o', linestyle='dashed',label='Predicted Price')\n",
    "plt.plot(test_set_range, test_data, color='red', label='Actual Price')\n",
    "plt.title('APPLE Prices Prediction')\n",
    "plt.xlabel('Date')\n",
    "plt.ylabel('Prices')\n",
    "#plt.xticks(np.arange(1204,1721,100), df.Date[1204:1721:100])\n",
    "plt.xticks(np.arange(1057,1510,100), df.Date[1057:1510:100])\n",
    "plt.legend()\n",
    "plt.show()"
   ]
  },
  {
   "cell_type": "code",
   "execution_count": 25,
   "id": "17e013c8",
   "metadata": {},
   "outputs": [
    {
     "name": "stdout",
     "output_type": "stream",
     "text": [
      "[121.85801854 120.97080771 120.74627428 119.26555966 116.29150461\n",
      " 117.19546731 117.04946116 115.88262884 115.07682368 115.02565766\n",
      " 116.41183805 111.98361611 114.4971719  110.09262465 108.45003937\n",
      " 110.12756236 114.39505735 118.7054462  118.85385872 116.43062511\n",
      " 115.81912518 119.06632922 119.4421978  119.1605964  120.11908117\n",
      " 119.55978154 118.14893186 118.50582547 117.58435926 114.26238378\n",
      " 114.86513048 116.05517482 116.57249863 118.70679191 122.33680259\n",
      " 123.14583792 122.8707784  122.26382043 123.528874   124.38018993\n",
      " 122.11716171 122.9151048  122.61282954 121.83898157 127.03916329\n",
      " 128.08612751 128.51686049 126.83180874 127.92784814 131.49389455\n",
      " 131.22241703 131.72017348 136.09074956 135.28639378 133.75788094\n",
      " 132.73142246 129.83445606 130.72290606 127.28086919 130.1953586\n",
      " 132.07588141 129.53738939 128.60222907 130.59038546 129.31423006\n",
      " 127.32286591 127.65033722 131.51444444 136.40497439 138.91319457\n",
      " 142.48847705 143.21641423 142.14556815 137.48785395 132.24125558\n",
      " 133.81160827 135.25430879 134.22398846 136.89274777 136.93609617\n",
      " 136.87565288 135.97749872 135.44377285 135.13740078 135.37951308\n",
      " 133.45442751 131.00141331 129.74297669 129.92087323 126.48706703\n",
      " 125.74773314 125.4135452  121.53061056 121.04434694 127.17872974\n",
      " 125.74777525 122.31584855 120.08338455 121.32963368 116.95823875\n",
      " 120.47601961 120.21391452 121.79475416 121.10344194 123.63105019\n",
      " 125.46452094 124.89977453 120.90798708 119.90986185 123.07195765\n",
      " 122.77649967 120.30920935 120.46564491 121.18524694 121.39699608\n",
      " 120.05604829 121.86772515 122.96022172 125.58372328 126.20999552\n",
      " 127.6895358  130.12469296 132.77885363 131.46481107 134.0353853\n",
      " 132.38723345 134.13102613 134.29159946 134.73184376 133.3319242\n",
      " 133.39749444 132.14327849 133.99478882 134.76649286 134.40901477\n",
      " 133.66402098 133.4717389  131.68939492 132.35596003 128.43888606\n",
      " 127.892747   129.61292123 130.19022106 127.2281959  125.9289858\n",
      " 123.12943353 124.61577338 127.28713242 126.42369072 124.94796789\n",
      " 124.70396715 127.03218473 125.69550078 126.81758124 127.01657729\n",
      " 126.80871663 125.47382121 124.64478798 124.32700963 124.96351629\n",
      " 123.73161737 125.56569501 125.9928841  126.58996088 127.12660366\n",
      " 126.22157742 127.18060933 130.17866478 129.78481813 130.02908235\n",
      " 131.65764575 130.63900077 132.03525961 133.86522143 133.74058885\n",
      " 133.42889033 133.15337122 134.58376591 136.1977507  136.90317093\n",
      " 137.24459598 139.67566674 141.87018177 144.33424539 143.46590356\n",
      " 144.86963809 144.67050774 145.45847672 148.83452071 148.64228368\n",
      " 146.57994408 142.85121524 145.66773143 145.60428256 146.51045094\n",
      " 148.45699748 148.96179007 147.01358152 145.12935696 145.56685807\n",
      " 145.85742585 145.52976854 147.15579449 147.04778387 147.00383098\n",
      " 146.26919422 146.06644783 145.66876484 145.81069836 148.57661233\n",
      " 149.14225885 150.85947747 150.36757048 146.70950894 146.60003698\n",
      " 148.10773473 149.55368382 149.63172892 148.4645706  147.60888712\n",
      " 148.49984453 152.68448674 152.01972227 152.30578514 153.59778206\n",
      " 154.22930071 156.43186991 155.31552778 154.09653069 149.52336019\n",
      " 149.40428566 148.41362381 148.86768512 148.87847374 146.30689351\n",
      " 143.1983841  143.38247178 145.69991021 146.75662954 146.85678273\n",
      " 145.50021849 142.21180941 142.72468312 141.766162   142.47789872\n",
      " 139.56514634 140.78403741 142.08103481 143.09607254 142.94230051\n",
      " 142.76596434 141.65693431 140.94304505 143.50943183 144.81209183\n",
      " 146.29501495 148.55124857 149.20662575 149.39613907 148.75750791\n",
      " 148.61841251 149.28216242 148.91228101 152.17217303 150.18808103\n",
      " 148.84125703 149.9947611  151.39254576 151.00419688 151.18593472\n",
      " 150.55322058 150.74157494 148.24816463 147.79267974 149.88490592\n",
      " 150.03863463 150.82257838 153.26922731 157.48034561 160.34780793\n",
      " 160.92205598 161.32783292 161.90696562 157.27529385 159.75545617\n",
      " 165.07789989 164.78659866 163.69514618 162.02868916 165.00318355\n",
      " 170.79197401 174.73101397 174.4479105  179.01026581 176.20287035\n",
      " 174.18927415 178.98427072 173.06680213 171.03110311 169.98745957\n",
      " 172.70327003 175.50810237 176.18146978 179.90210309 179.42475518\n",
      " 179.23932686 178.29771423 177.60742746 181.64074742 180.02378091\n",
      " 175.19568629 172.19994948 172.27572017 172.31943688 174.87320064\n",
      " 175.53474688 172.3756287  172.90189843 170.19032073 166.49462683\n",
      " 164.66646489 162.68120323 161.7294818  159.97306515 159.69952585\n",
      " 159.30677228 169.49542141 174.76878845 174.37710341 175.46530649\n",
      " 173.0084282  172.32003599 171.75119324 174.70435001 176.30203143\n",
      " 172.32245074 168.64102151 168.91904754 172.79795257 172.68415016\n",
      " 168.93036218 167.29209304 164.62368721 160.38053732 162.69036204\n",
      " 165.00967517 165.12382084 163.15715403 166.30454915 166.35154097\n",
      " 163.24543014 159.43016231 157.6305326  162.89667764 158.95027613\n",
      " 154.74177601 150.9476087  155.062106   159.60987621 160.35097151\n",
      " 163.52576491 165.21386693 168.5071745  170.0784135  173.76724617\n",
      " 174.65565308 175.40060229 178.80932892 177.81482401 174.58181961\n",
      " 174.33534416 178.41345789 175.22853544 171.78741423 172.27359238\n",
      " 170.28562509 165.87551735 167.64770855 170.43603757 165.40313255\n",
      " 165.03184433 167.473612   167.18287503 166.38784958 162.01046438\n",
      " 162.89080878 157.18366769 156.50108692 163.5078031  157.8860556\n",
      " 157.87375725 159.5017722  165.59448227 157.22234558 157.26791273\n",
      " 152.8312298  154.13754598 147.2617707  142.50260749 147.14936253\n",
      " 145.44748684 148.75439057 141.65264247 137.42865676 137.98722378\n",
      " 142.61855583 140.36948015 140.30442623 143.86376221 149.10256726\n",
      " 148.7106679  148.62794749 151.34924191 145.73081951 146.0429552\n",
      " 148.83104581 147.73049938 142.95840371 137.68846416 132.37842487\n",
      " 132.74466741 135.28410629 130.08034987 131.47094107 135.88717384\n",
      " 135.03548157 138.02580827 141.6187798  141.51290283 137.69606677\n",
      " 139.33326979 136.97065589 138.60457079 141.51629835 142.64007903\n",
      " 146.13980506 147.01897375 144.93099418 145.93319723 145.58668583\n",
      " 148.19469536 150.08338686 147.12314727 150.85785129 153.0100086\n",
      " 154.97008083 154.21944003 153.03677516 151.81069891 156.49400935\n",
      " 157.24442803 161.993828   161.68927611 159.95218164 165.99554375\n",
      " 165.76417036 165.16201794 165.12778721 164.92431832 168.98149439\n",
      " 168.46270377 171.77277569 173.26008257 172.90745197 174.55714948\n",
      " 174.20043394 171.63508766 167.88140396 167.34253828 167.53450419\n",
      " 169.7706998  163.95288772 161.51825663 159.34214522 157.15924894\n",
      " 157.9218274  155.87778724 154.53313096 155.97316527 154.4868729\n",
      " 157.13807916 163.17557463 154.25365416 155.2920054  152.95520121\n",
      " 150.55104702 154.33479993 156.68309342 153.7840828  152.87542831\n",
      " 150.70884367 150.73464324 151.72564977 149.89927043 142.94829223\n",
      " 138.58884118 142.40891249 145.77890099 146.09560919 145.45573847\n",
      " 140.45546889 140.54991383 139.21911897 138.30141785 142.79608591\n",
      " 138.56396399 142.07844959 143.7892874  143.65232017 143.41940781\n",
      " 147.05554725 149.26513792 152.01139222 149.46609029 145.0466296\n",
      " 155.26157846 153.33011298]\n"
     ]
    }
   ],
   "source": [
    "arr = np.array(model_predictions)\n",
    "print(arr)"
   ]
  },
  {
   "cell_type": "code",
   "execution_count": 29,
   "id": "7c79ebb4",
   "metadata": {},
   "outputs": [
    {
     "name": "stdout",
     "output_type": "stream",
     "text": [
      "\n",
      "Pandas DataFrame: \n"
     ]
    },
    {
     "data": {
      "text/html": [
       "<div>\n",
       "<style scoped>\n",
       "    .dataframe tbody tr th:only-of-type {\n",
       "        vertical-align: middle;\n",
       "    }\n",
       "\n",
       "    .dataframe tbody tr th {\n",
       "        vertical-align: top;\n",
       "    }\n",
       "\n",
       "    .dataframe thead th {\n",
       "        text-align: right;\n",
       "    }\n",
       "</style>\n",
       "<table border=\"1\" class=\"dataframe\">\n",
       "  <thead>\n",
       "    <tr style=\"text-align: right;\">\n",
       "      <th></th>\n",
       "      <th>Open</th>\n",
       "    </tr>\n",
       "  </thead>\n",
       "  <tbody>\n",
       "    <tr>\n",
       "      <th>0</th>\n",
       "      <td>121.858019</td>\n",
       "    </tr>\n",
       "    <tr>\n",
       "      <th>1</th>\n",
       "      <td>120.970808</td>\n",
       "    </tr>\n",
       "    <tr>\n",
       "      <th>2</th>\n",
       "      <td>120.746274</td>\n",
       "    </tr>\n",
       "    <tr>\n",
       "      <th>3</th>\n",
       "      <td>119.265560</td>\n",
       "    </tr>\n",
       "    <tr>\n",
       "      <th>4</th>\n",
       "      <td>116.291505</td>\n",
       "    </tr>\n",
       "    <tr>\n",
       "      <th>...</th>\n",
       "      <td>...</td>\n",
       "    </tr>\n",
       "    <tr>\n",
       "      <th>512</th>\n",
       "      <td>152.011392</td>\n",
       "    </tr>\n",
       "    <tr>\n",
       "      <th>513</th>\n",
       "      <td>149.466090</td>\n",
       "    </tr>\n",
       "    <tr>\n",
       "      <th>514</th>\n",
       "      <td>145.046630</td>\n",
       "    </tr>\n",
       "    <tr>\n",
       "      <th>515</th>\n",
       "      <td>155.261578</td>\n",
       "    </tr>\n",
       "    <tr>\n",
       "      <th>516</th>\n",
       "      <td>153.330113</td>\n",
       "    </tr>\n",
       "  </tbody>\n",
       "</table>\n",
       "<p>517 rows × 1 columns</p>\n",
       "</div>"
      ],
      "text/plain": [
       "           Open\n",
       "0    121.858019\n",
       "1    120.970808\n",
       "2    120.746274\n",
       "3    119.265560\n",
       "4    116.291505\n",
       "..          ...\n",
       "512  152.011392\n",
       "513  149.466090\n",
       "514  145.046630\n",
       "515  155.261578\n",
       "516  153.330113\n",
       "\n",
       "[517 rows x 1 columns]"
      ]
     },
     "execution_count": 29,
     "metadata": {},
     "output_type": "execute_result"
    }
   ],
   "source": [
    "df = pd.DataFrame(arr, columns =['Open'])\n",
    "print(\"\\nPandas DataFrame: \")\n",
    "df"
   ]
  },
  {
   "cell_type": "code",
   "execution_count": 27,
   "id": "35ff8ca2",
   "metadata": {},
   "outputs": [],
   "source": [
    "df.to_csv(\"C:/Users/Lenovo/Documents/fda project/Customer-Segmentation-and-Stock-market-prediction-for-portfolio-generation--main/FinalModel/ARIMA/Predictions_AAPL.csv\",index=None)"
   ]
  },
  {
   "cell_type": "code",
   "execution_count": 28,
   "id": "31b3989b",
   "metadata": {},
   "outputs": [
    {
     "data": {
      "text/html": [
       "<div>\n",
       "<style scoped>\n",
       "    .dataframe tbody tr th:only-of-type {\n",
       "        vertical-align: middle;\n",
       "    }\n",
       "\n",
       "    .dataframe tbody tr th {\n",
       "        vertical-align: top;\n",
       "    }\n",
       "\n",
       "    .dataframe thead th {\n",
       "        text-align: right;\n",
       "    }\n",
       "</style>\n",
       "<table border=\"1\" class=\"dataframe\">\n",
       "  <thead>\n",
       "    <tr style=\"text-align: right;\">\n",
       "      <th></th>\n",
       "      <th>Open</th>\n",
       "    </tr>\n",
       "  </thead>\n",
       "  <tbody>\n",
       "    <tr>\n",
       "      <th>0</th>\n",
       "      <td>121.858019</td>\n",
       "    </tr>\n",
       "    <tr>\n",
       "      <th>1</th>\n",
       "      <td>120.970808</td>\n",
       "    </tr>\n",
       "    <tr>\n",
       "      <th>2</th>\n",
       "      <td>120.746274</td>\n",
       "    </tr>\n",
       "    <tr>\n",
       "      <th>3</th>\n",
       "      <td>119.265560</td>\n",
       "    </tr>\n",
       "    <tr>\n",
       "      <th>4</th>\n",
       "      <td>116.291505</td>\n",
       "    </tr>\n",
       "  </tbody>\n",
       "</table>\n",
       "</div>"
      ],
      "text/plain": [
       "         Open\n",
       "0  121.858019\n",
       "1  120.970808\n",
       "2  120.746274\n",
       "3  119.265560\n",
       "4  116.291505"
      ]
     },
     "execution_count": 28,
     "metadata": {},
     "output_type": "execute_result"
    }
   ],
   "source": [
    "df.head(5)\n",
    "#type(df.iloc[1,1])"
   ]
  },
  {
   "cell_type": "code",
   "execution_count": null,
   "id": "d1010d79",
   "metadata": {},
   "outputs": [],
   "source": []
  }
 ],
 "metadata": {
  "kernelspec": {
   "display_name": "Python 3 (ipykernel)",
   "language": "python",
   "name": "python3"
  },
  "language_info": {
   "codemirror_mode": {
    "name": "ipython",
    "version": 3
   },
   "file_extension": ".py",
   "mimetype": "text/x-python",
   "name": "python",
   "nbconvert_exporter": "python",
   "pygments_lexer": "ipython3",
   "version": "3.9.12"
  }
 },
 "nbformat": 4,
 "nbformat_minor": 5
}
